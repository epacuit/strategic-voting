{
 "cells": [
  {
   "cell_type": "code",
   "execution_count": 1,
   "metadata": {},
   "outputs": [],
   "source": [
    "import itertools\n",
    "import string\n",
    "from tqdm import tqdm_notebook\n",
    "import cPickle as pickle\n",
    "\n",
    "\n",
    "A = 'A'\n",
    "B = 'B'\n",
    "C = 'C'\n",
    "D = 'D'\n",
    "E = 'E'\n",
    "\n",
    "\n",
    "def generate_orderings(candidates): \n",
    "    # returns all linear orderings for a set of candidates\n",
    "    \n",
    "    return list(itertools.permutations(candidates))\n",
    "\n",
    "# function to determine if two lists of orderings are permutations of each other \n",
    "def is_voter_permutation(p1, p2):\n",
    "    _p1 = list(p1)\n",
    "    _p2 = list(p2)\n",
    "    for r in _p1: \n",
    "        if r in _p2:\n",
    "            _p2.remove(r)\n",
    "    return len(_p2) == 0\n",
    "\n",
    "def is_candidate_permutation_and_anon(p1, p2, permutations):\n",
    "    \n",
    "    for perm in permutations:\n",
    "        _p1 = list(p1)\n",
    "        _p2 = list(p2)\n",
    "        for r1 in _p1:\n",
    "            _r = filter(lambda r2: all([c[0] == perm[c[1]] for c in zip(r1,r2)]),_p2) \n",
    "            if len(_r) > 0:\n",
    "                _p2.remove(_r[0])\n",
    "        if len(_p2) == 0:\n",
    "            return True\n",
    "    return False\n",
    "\n",
    "    \n",
    "    return any([all([all([c[0] == perm[c[1]] for c in zip(r[0], r[1])]) for r in zip(p1, p2)]) for perm in permutations])\n",
    "\n",
    "def is_candidate_permutation(p1, p2, permutations):\n",
    "    \n",
    "    return any([all([all([c[0] == perm[c[1]] for c in zip(r[0], r[1])]) for r in zip(p1, p2)]) for perm in permutations])\n",
    "\n",
    "def generate_permutations(cands, all_permutation):\n",
    "    return [{c: p[i] for i,c in enumerate(cands)} for  p in all_permutation]\n",
    "\n",
    "voting_scenarios = list()\n",
    "\n"
   ]
  },
  {
   "cell_type": "code",
   "execution_count": 2,
   "metadata": {
    "scrolled": false
   },
   "outputs": [
    {
     "data": {
      "application/vnd.jupyter.widget-view+json": {
       "model_id": "2732f6732a5748aeae5f4de26ea9215f",
       "version_major": 2,
       "version_minor": 0
      },
      "text/plain": [
       "HBox(children=(IntProgress(value=0, description=u'Voting Sits.', max=2), HTML(value=u'')))"
      ]
     },
     "metadata": {},
     "output_type": "display_data"
    },
    {
     "name": "stdout",
     "output_type": "stream",
     "text": [
      "\n",
      "(4, 4)\n",
      "Linear rankings:  24\n",
      "Profiles: 331776\n"
     ]
    },
    {
     "data": {
      "application/vnd.jupyter.widget-view+json": {
       "model_id": "",
       "version_major": 2,
       "version_minor": 0
      },
      "text/plain": [
       "HBox(children=(IntProgress(value=0, description=u'All profiles', max=331776), HTML(value=u'')))"
      ]
     },
     "metadata": {},
     "output_type": "display_data"
    },
    {
     "name": "stdout",
     "output_type": "stream",
     "text": [
      "\n",
      "Sanity check: len(aecs) = 17550, len(anecs) = 762\n",
      "writing pickle file....\n",
      "\n",
      "(3, 8)\n",
      "Linear rankings:  6\n",
      "Profiles: 1679616\n"
     ]
    },
    {
     "data": {
      "application/vnd.jupyter.widget-view+json": {
       "model_id": "",
       "version_major": 2,
       "version_minor": 0
      },
      "text/plain": [
       "HBox(children=(IntProgress(value=0, description=u'All profiles', max=1679616), HTML(value=u'')))"
      ]
     },
     "metadata": {},
     "output_type": "display_data"
    },
    {
     "name": "stdout",
     "output_type": "stream",
     "text": [
      "\n",
      "Sanity check: len(aecs) = 1287, len(anecs) = 222\n",
      "writing pickle file....\n",
      "\n",
      "done.\n"
     ]
    }
   ],
   "source": [
    "# Generate Pointed Profiles\n",
    "\n",
    "import itertools\n",
    "import string\n",
    "from tqdm import tqdm_notebook\n",
    "import cPickle as pickle\n",
    "import copy\n",
    "\n",
    "A = 'A'\n",
    "B = 'B'\n",
    "C = 'C'\n",
    "D = 'D'\n",
    "E = 'E'\n",
    "\n",
    "\n",
    "\n",
    "voting_scenarios = list()\n",
    "\n",
    "voting_sizes = [(4,4), (3,8)]\n",
    "for vs in tqdm_notebook(voting_sizes,desc=\"Voting Sits.\"): \n",
    "    \n",
    "    print \n",
    "    print vs\n",
    "    \n",
    "    num_candidates = vs[0]\n",
    "    num_voters = vs[1]\n",
    "    candidates =  list(string.ascii_uppercase[0:num_candidates])\n",
    "    voter_names = list(string.printable[1:num_voters + 1])\n",
    "    \n",
    "    all_orderings = generate_orderings(candidates)    \n",
    "    \n",
    "    permutations = generate_permutations(candidates, all_orderings)\n",
    "    \n",
    "    print \"Linear rankings:  {}\".format(len(all_orderings))\n",
    "\n",
    "    all_profiles = list(itertools.product(*[all_orderings]*len(voter_names)))\n",
    "    print \"Profiles: {}\".format(len(all_profiles))\n",
    "\n",
    "    anon_classes = list()\n",
    "    reduced_by_anonymity_profiles = list()\n",
    "    for _p in tqdm_notebook(all_profiles, desc=\"All profiles\", leave=False):\n",
    "        _class = filter(lambda _prf: is_voter_permutation(_p, _prf[0]), anon_classes)\n",
    "        if len(_class) == 0:\n",
    "\n",
    "            a_class = [_p]\n",
    "            anon_classes.append(a_class)\n",
    "        else:\n",
    "            _class[0].append(_p)\n",
    "        \n",
    "    # record anon_classes\n",
    "    _anon_classes = copy.deepcopy(anon_classes)\n",
    "    \n",
    "    anon_neutral_classes = list()\n",
    "    for _ac in anon_classes:\n",
    "        \n",
    "        _class = filter(lambda _anc: is_candidate_permutation_and_anon(_ac[0], _anc[0], permutations), \n",
    "                        anon_neutral_classes)\n",
    "\n",
    "        if len(_class) == 0:\n",
    "            an_class = _ac\n",
    "            anon_neutral_classes.append(an_class)\n",
    "        else:\n",
    "            _class[0] += _ac\n",
    "            \n",
    "                \n",
    "    aecs = [aec[0] for aec in _anon_classes]\n",
    "    anecs =  [anec[0] for anec in anon_neutral_classes]\n",
    "    \n",
    "    print \"\\nSanity check: len(aecs) = {}, len(anecs) = {}\".format(len(aecs), len(anecs))\n",
    "    voting_scenarios.append({\"num_candidates\": num_candidates,\n",
    "                             \"num_voters\": num_voters, \n",
    "                             \"candidates\": candidates,\n",
    "                             \"voter_names\": voter_names,\n",
    "                             \"all_orderings\": all_orderings,\n",
    "                             \"profiles\": all_profiles,\n",
    "                             \"pointed_profiles\": [(p,vname) for vname in voter_names for p in all_profiles],                             \n",
    "                             \"anon_classes\": _anon_classes,\n",
    "                             \"aecs\": aecs,\n",
    "                             \"pointed_aecs\": [(p,vname) for vname in voter_names for p in aecs],\n",
    "                             \"anon_neut_classes\": anon_neutral_classes,\n",
    "                             \"anecs\": anecs,\n",
    "                             \"pointed_anecs\": [(p,vname) for vname in voter_names for p in anecs]\n",
    "                            })\n",
    "\n",
    "    \n",
    "\n",
    "\n",
    "\n",
    "#for vs in voting_scenarios:\n",
    "#    print \"for {} cand, {} voters there are {} pointed profiles\".format(vs[\"num_candidates\"], vs[\"num_voters\"],len(vs[\"pointed_profiles\"]))\n",
    "#print \"\\n\\n\"\n",
    "    print \"writing pickle file....\"\n",
    "    pickle.dump(voting_scenarios, open(\"voting_scenarios3.pkl\",\"w\"))\n",
    "\n",
    "print \"done.\""
   ]
  },
  {
   "cell_type": "code",
   "execution_count": null,
   "metadata": {},
   "outputs": [],
   "source": []
  },
  {
   "cell_type": "code",
   "execution_count": null,
   "metadata": {},
   "outputs": [],
   "source": []
  }
 ],
 "metadata": {
  "kernelspec": {
   "display_name": "Python 2",
   "language": "python",
   "name": "python2"
  },
  "language_info": {
   "codemirror_mode": {
    "name": "ipython",
    "version": 2
   },
   "file_extension": ".py",
   "mimetype": "text/x-python",
   "name": "python",
   "nbconvert_exporter": "python",
   "pygments_lexer": "ipython2",
   "version": "2.7.14"
  }
 },
 "nbformat": 4,
 "nbformat_minor": 2
}
