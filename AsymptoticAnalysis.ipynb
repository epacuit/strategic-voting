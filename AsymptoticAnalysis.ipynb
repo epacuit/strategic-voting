{
 "cells": [
  {
   "cell_type": "markdown",
   "metadata": {},
   "source": [
    "# Asymptotic Analysis"
   ]
  },
  {
   "cell_type": "code",
   "execution_count": 1,
   "metadata": {},
   "outputs": [],
   "source": [
    "%load_ext autoreload\n",
    "%autoreload 2"
   ]
  },
  {
   "cell_type": "code",
   "execution_count": 2,
   "metadata": {},
   "outputs": [],
   "source": [
    "import cPickle as pickle\n",
    "import json\n",
    "from functools import partial\n",
    "from multiprocessing import cpu_count, Pool\n",
    "import pandas as pd\n",
    "from itertools import product \n",
    "import string\n",
    "from tqdm import tqdm_notebook\n",
    "import copy\n",
    "import time"
   ]
  },
  {
   "cell_type": "code",
   "execution_count": 3,
   "metadata": {},
   "outputs": [],
   "source": [
    "from voting.voter import *\n",
    "from voting.ranking import *\n",
    "from voting.profile import *\n",
    "from voting.voting_methods import *\n",
    "from preflibtools.generate_profiles import *\n"
   ]
  },
  {
   "cell_type": "markdown",
   "metadata": {},
   "source": [
    "## Preflib tools\n",
    "\n"
   ]
  },
  {
   "cell_type": "code",
   "execution_count": 4,
   "metadata": {},
   "outputs": [],
   "source": [
    "def generate_names(num_cands, num_voters):\n",
    "\n",
    "    cand_names = basic_cand_names = list(string.ascii_uppercase)\n",
    "\n",
    "    voter_names = basic_voter_names = list(string.ascii_lowercase)\n",
    "\n",
    "    while len(cand_names) < num_cands: \n",
    "        cand_names = cand_names + [''.join(_c) for _c in  list(product(cand_names, basic_cand_names))]\n",
    "\n",
    "    while len(voter_names) < num_voters: \n",
    "        voter_names = voter_names + [''.join(_c) for _c in  list(product(voter_names, basic_voter_names))]\n",
    "    \n",
    "    return cand_names[0:num_cands], voter_names[0:num_voters]\n",
    "\n",
    "\n"
   ]
  },
  {
   "cell_type": "code",
   "execution_count": 5,
   "metadata": {},
   "outputs": [],
   "source": [
    "def create_prof(num_voters, cmap):\n",
    "    num_cands = len(cmap.keys())\n",
    "    rmaps, rmapscounts = gen_impartial_culture_strict(num_voters, cmap)\n",
    "\n",
    "    _prof = list()\n",
    "    for _rmap in zip(rmapscounts,rmaps):\n",
    "\n",
    "        _rank = list()\n",
    "        for r in range(1,num_cands + 1):\n",
    "            _rank.append(cmap[_rmap[1].keys()[_rmap[1].values().index(r)]])\n",
    "        _prof += [tuple(_rank)] *_rmap[0]\n",
    "        \n",
    "    return _prof\n"
   ]
  },
  {
   "cell_type": "code",
   "execution_count": 6,
   "metadata": {},
   "outputs": [],
   "source": [
    "def generate_candidate_maps(cand_names):\n",
    "    \n",
    "    num_cands = len(cand_names)\n",
    "    cmap =  gen_cand_map(num_cands)\n",
    "    for i,c in enumerate(cand_names):\n",
    "        cmap[i+1] = c\n",
    "    return cmap"
   ]
  },
  {
   "cell_type": "code",
   "execution_count": 7,
   "metadata": {},
   "outputs": [],
   "source": [
    "voting_scenarios = pickle.load(open(\"./voting_data/voting_scenarios.pkl\",\"rb\"))"
   ]
  },
  {
   "cell_type": "code",
   "execution_count": 8,
   "metadata": {},
   "outputs": [
    {
     "name": "stdout",
     "output_type": "stream",
     "text": [
      "[['A'], ['B'], ['C']]\n"
     ]
    }
   ],
   "source": [
    "A=\"A\"\n",
    "B=\"B\"\n",
    "C=\"C\"\n",
    "D=\"D\"\n",
    "\n",
    "ws1 = [A, B, C]\n",
    "ws2 = [A, B]\n",
    "\n",
    "print [[c] for c in ws1]"
   ]
  },
  {
   "cell_type": "code",
   "execution_count": 9,
   "metadata": {},
   "outputs": [],
   "source": [
    "def gen_winning_sets_from_all_tiebreakers(ws1, ws2):\n",
    "    # to simplify the analysis, when the agent considers all \n",
    "    # tie breakers, each singleton from the winning set may be a winner\n",
    "    \n",
    "    ws1_ws = [[c] for c in ws1]\n",
    "    ws2_ws = [[c] for c in ws2]\n",
    "    \n",
    "    return [_wss[0]  for _wss in list(product(ws1_ws, ws2_ws))], [_wss[1]  for _wss in list(product(ws1_ws, ws2_ws))]\n",
    "    \n"
   ]
  },
  {
   "cell_type": "code",
   "execution_count": 10,
   "metadata": {
    "scrolled": false
   },
   "outputs": [
    {
     "name": "stdout",
     "output_type": "stream",
     "text": [
      "Using all profiles when available....\n"
     ]
    },
    {
     "data": {
      "application/vnd.jupyter.widget-view+json": {
       "model_id": "37442cccbce34a0693360e412f00fa1b",
       "version_major": 2,
       "version_minor": 0
      },
      "text/plain": [
       "HBox(children=(IntProgress(value=0, description=u'Voting Sizes', max=2), HTML(value=u'')))"
      ]
     },
     "metadata": {},
     "output_type": "display_data"
    },
    {
     "name": "stdout",
     "output_type": "stream",
     "text": [
      "(5, 5)\n",
      "\n",
      "Running 1 simulations\n"
     ]
    },
    {
     "data": {
      "application/vnd.jupyter.widget-view+json": {
       "model_id": "",
       "version_major": 2,
       "version_minor": 0
      },
      "text/plain": [
       "HBox(children=(IntProgress(value=0, description=u'Sims', max=1), HTML(value=u'')))"
      ]
     },
     "metadata": {},
     "output_type": "display_data"
    },
    {
     "name": "stdout",
     "output_type": "stream",
     "text": [
      "sim 0\n",
      "\n",
      "Generate profile ...\n",
      "\n",
      "number for profiles is 10000\n",
      "chunksize is 10\n",
      "Using 8 CPUs\n"
     ]
    },
    {
     "data": {
      "application/vnd.jupyter.widget-view+json": {
       "model_id": "",
       "version_major": 2,
       "version_minor": 0
      },
      "text/plain": [
       "HBox(children=(IntProgress(value=0, max=10000), HTML(value=u'')))"
      ]
     },
     "metadata": {},
     "output_type": "display_data"
    },
    {
     "name": "stdout",
     "output_type": "stream",
     "text": [
      "now calculating output for the vms_sets....\n",
      "output_many_vms \n",
      "\n",
      "output_many_vms \n",
      "\n",
      "output_many_vms \n",
      "\n",
      "output_many_vms \n",
      "\n",
      "output_many_vms \n",
      "\n",
      "output_many_vms \n",
      "\n",
      "execution time: 7350.97273397\n",
      "(5, 6)\n",
      "\n",
      "Running 1 simulations\n"
     ]
    },
    {
     "data": {
      "application/vnd.jupyter.widget-view+json": {
       "model_id": "",
       "version_major": 2,
       "version_minor": 0
      },
      "text/plain": [
       "HBox(children=(IntProgress(value=0, description=u'Sims', max=1), HTML(value=u'')))"
      ]
     },
     "metadata": {},
     "output_type": "display_data"
    },
    {
     "name": "stdout",
     "output_type": "stream",
     "text": [
      "sim 0\n",
      "\n",
      "Generate profile ...\n",
      "\n",
      "number for profiles is 10000\n",
      "chunksize is 10\n",
      "Using 8 CPUs\n"
     ]
    },
    {
     "data": {
      "application/vnd.jupyter.widget-view+json": {
       "model_id": "",
       "version_major": 2,
       "version_minor": 0
      },
      "text/plain": [
       "HBox(children=(IntProgress(value=0, max=10000), HTML(value=u'')))"
      ]
     },
     "metadata": {},
     "output_type": "display_data"
    },
    {
     "name": "stdout",
     "output_type": "stream",
     "text": [
      "now calculating output for the vms_sets....\n",
      "output_many_vms \n",
      "\n",
      "output_many_vms \n",
      "\n",
      "output_many_vms \n",
      "\n",
      "output_many_vms \n",
      "\n",
      "output_many_vms \n",
      "\n",
      "output_many_vms \n",
      "\n",
      "execution time: 11126.054004\n",
      "\n",
      "Done.\n"
     ]
    }
   ],
   "source": [
    "\n",
    "#voting_sizes = [(3,4), (3,5), (3,6), (3,7), (3,10), (3,25), (3,40), (3,55), (3,70)]\n",
    "voting_sizes = [(3,4)] #(3,4), (3,5), (3,6), (3,7), (3,10), (3,25), (3,40), (3,55), (3,70)]\n",
    "prf_type = \"profile\" #\"pointed_profile\"  #\"anecs\" #pointed_anecs\n",
    "\n",
    "#voting_scenarios = None\n",
    "\n",
    "prob_type = \"ic\"\n",
    "\n",
    "all_voting_methods = [borda, weak_nanson, strict_nanson, plurality] #, plurality]\n",
    "\n",
    "voting_methods_sets = [(borda,), \n",
    "                       (borda, strict_nanson,), \n",
    "                       (borda, weak_nanson,), \n",
    "                       (borda, hare,), \n",
    "                       (borda, coombs,), \n",
    "                       (borda, plurality,)]\n",
    "\n",
    "NUM_PROFILES = 10000 #2500\n",
    "NUM_SIMULATIONS = 1\n",
    "\n",
    "max_vms_set_size =  2\n",
    "\n",
    "\n",
    "try: \n",
    "    voting_scenarios\n",
    "    print \"Using all profiles when available....\" if not None else \"Not reading the saved voting scenarios\"\n",
    "except: \n",
    "    voting_scenarios = None\n",
    "\n",
    "output_single_vm = {vsize: {vm.__doc__: {\"With tie breaker\":list(),\n",
    "                                         \"Weak dominance\": list(),\n",
    "                                         \"Optimist\": list(),\n",
    "                                         \"Pessimist\": list(),\n",
    "                                         \"Sure manipulation, uncertainty about tie breaker\": list(),\n",
    "                                         \"Safe manipulation, uncertainty about tie breaker\": list()} \n",
    "                            for vm in all_voting_methods} for vsize in voting_sizes}\n",
    "\n",
    "output_many_vms = {vsize: {vms_to_str(vms): {\"Surely weak dom. manip.\": list(),\n",
    "                                             \"Safely weak dom. manip.\": list()} \n",
    "                   for vms in voting_methods_sets} for vsize in voting_sizes}\n",
    "\n",
    "def apply_tie_breaker(vm, tie_breaker):\n",
    "    return lambda prf: list(tie_breaker(vm(prf)))\n",
    "\n",
    "def find_manipulation_instances_for_profile(vm, other_voting_methods, \n",
    "                                            cand_names, voter_names, \n",
    "                                            _prof):\n",
    "    \n",
    "    tie_breakers = create_all_tie_breakers(cand_names)\n",
    "    \n",
    "    output = {\"With tie breaker\":False, \n",
    "              \"Weak dominance\": False,\n",
    "              \"Optimist\": False,\n",
    "              \"Pessimist\": False,\n",
    "              \"Sure manipulation, uncertainty about tie breaker\": False,\n",
    "              \"Safe manipulation, uncertainty about tie breaker\": False}\n",
    "    \n",
    "    for voter_name in voter_names:\n",
    "        \n",
    "        pprof = create_pointed_profile(voter_names, _prof, voter_name)\n",
    "       \n",
    "        voter = pprof.voter\n",
    "    \n",
    "        vm_with_tie_breaker = apply_tie_breaker(vm, tie_breakers[0])\n",
    "\n",
    "        #vm_all_tie_breakers = [apply_tie_breaker(vm, tb) for tb in tie_breakers]\n",
    "    \n",
    "        for new_ranking in pprof.all_rankings:\n",
    "\n",
    "            updated_pprof = pprof.create_new_profile(new_ranking)\n",
    "\n",
    "            if voter.sure_dominance(vm_with_tie_breaker(updated_pprof), vm_with_tie_breaker(pprof), voter.weak_dom):\n",
    "                output[\"With tie breaker\"] = True\n",
    "\n",
    "            if voter.sure_dominance([vm(updated_pprof)], [vm(pprof)], voter.weak_dom):\n",
    "                output[\"Weak dominance\"] = True\n",
    "\n",
    "            if voter.sure_dominance([vm(updated_pprof)], [vm(pprof)], voter.optimist_prefers):\n",
    "                output[\"Optimist\"] = True\n",
    "\n",
    "\n",
    "            if voter.sure_dominance([vm(updated_pprof)], [vm(pprof)], voter.pessimist_prefers):\n",
    "                output[\"Pessimist\"] = True\n",
    "\n",
    "            ws_from_all_tiebreakers = gen_winning_sets_from_all_tiebreakers(vm(updated_pprof), vm(pprof))\n",
    "            if voter.sure_dominance(ws_from_all_tiebreakers[0], \n",
    "                                    ws_from_all_tiebreakers[1], \n",
    "                                    voter.weak_dom):\n",
    "                output[\"Sure manipulation, uncertainty about tie breaker\"] = True\n",
    "\n",
    "            if voter.safe_dominance(ws_from_all_tiebreakers[0], \n",
    "                                    ws_from_all_tiebreakers[1], \n",
    "                                    voter.AAdom, voter.weak_dom):\n",
    "                output[\"Safe manipulation, uncertainty about tie breaker\"] = True\n",
    "\n",
    "\n",
    "    return output\n",
    "\n",
    "\n",
    "def find_manipulation_instances_for_vm_sets_for_profile(vms, \n",
    "                                                        cand_names, \n",
    "                                                        voter_names,\n",
    "                                                        _prof):\n",
    "        \n",
    "    output = {\"Surely weak dom. manip. for {}\".format(vms_to_str(vms)): False,\n",
    "              \"Safely weak dom. manip. for {}\".format(vms_to_str(vms)): False} \n",
    "\n",
    "    for voter_name in voter_names:\n",
    "        \n",
    "        pprof = create_pointed_profile(voter_names, _prof, voter_name)\n",
    "       \n",
    "        voter = pprof.voter\n",
    "        \n",
    "        winning_sets = [vm(pprof) for vm in vms]\n",
    "        for new_ranking in pprof.all_rankings:\n",
    "\n",
    "            updated_pprof = pprof.create_new_profile(new_ranking)\n",
    "            \n",
    "            updated_winning_sets = [vm(updated_pprof) for vm in vms]\n",
    "            if voter.sure_dominance(updated_winning_sets, \n",
    "                                    winning_sets, \n",
    "                                    voter.weak_dom):\n",
    "                output[\"Surely weak dom. manip. for {}\".format(vms_to_str(vms))] = True\n",
    "\n",
    "            if voter.safe_dominance(updated_winning_sets, \n",
    "                                    winning_sets, \n",
    "                                    voter.AAdom,\n",
    "                                    voter.weak_dom):\n",
    "                output[\"Safely weak dom. manip. for {}\".format(vms_to_str(vms))] = True\n",
    "\n",
    "    return output\n",
    "\n",
    "\n",
    "def find_manipulation_instances_for_vm_sets_for_profile2(all_vms_sets, \n",
    "                                                        cand_names, \n",
    "                                                        voter_names,\n",
    "                                                         all_rankings,\n",
    "                                                        _prof):\n",
    "        \n",
    "    output = {vms_to_str(vms): {\"Surely weak dom. manip.\": False,\n",
    "                                \"Safely weak dom. manip.\": False} \n",
    "              for vms in all_vms_sets} \n",
    "\n",
    "    for voter_name in voter_names:\n",
    "        \n",
    "        pprof = create_pointed_profile(voter_names, _prof, voter_name)\n",
    "       \n",
    "        voter = pprof.voter\n",
    "        \n",
    "        winning_sets = {vms_to_str(vms): [vm(pprof) for vm in vms] for vms in all_vms_sets}\n",
    "        for new_ranking in all_rankings:\n",
    "\n",
    "            updated_pprof = pprof.create_new_profile(new_ranking)\n",
    "            \n",
    "            updated_winning_sets = {vms_to_str(vms): [vm(updated_pprof) for vm in vms] for vms in all_vms_sets}\n",
    "            \n",
    "            for vms in all_vms_sets:\n",
    "                if voter.sure_dominance(updated_winning_sets[vms_to_str(vms)], \n",
    "                                        winning_sets[vms_to_str(vms)], \n",
    "                                        voter.weak_dom):\n",
    "                    output[vms_to_str(vms)][\"Surely weak dom. manip.\"] = True\n",
    "\n",
    "                if voter.safe_dominance(updated_winning_sets[vms_to_str(vms)], \n",
    "                                        winning_sets[vms_to_str(vms)],\n",
    "                                        voter.AAdom,\n",
    "                                        voter.weak_dom):\n",
    "                    output[vms_to_str(vms)][\"Safely weak dom. manip.\"] = True\n",
    "\n",
    "    return output\n",
    "\n",
    "\n",
    "def find_manipulation_instances_for_vm_sets_for_profile_for_all_vm_sets(all_vms_sets, \n",
    "                                                                        cand_names,\n",
    "                                                                        voter_names,\n",
    "                                                                        _prof):\n",
    "    \n",
    "    output = {vms_to_str(vms): dict() for vms in all_vms_sets}\n",
    "    \n",
    "    for vms in all_vms_sets:\n",
    "        output[vms_to_str(vms)] = find_manipulation_instances_for_vm_sets_for_profile(vms, \n",
    "                                                                                      cand_names, \n",
    "                                                                                      voter_names,\n",
    "                                                                                      _prof)\n",
    "    return output\n",
    "\n",
    "def generate_profiles_ic(num_cands, num_voters, num_profiles, voting_scenarios, is_pointed=False):\n",
    "        \n",
    "    cand_names, voter_names = generate_names(num_cands, num_voters)\n",
    "\n",
    "    cmap = generate_candidate_maps(cand_names)\n",
    "\n",
    "    num_cands = len(cand_names)\n",
    "    num_voters = len(voter_names)\n",
    "    \n",
    "    profiles = list()\n",
    "        \n",
    "    _vs =  filter(lambda vs: vs[\"num_candidates\"] == num_cands and vs[\"num_voters\"] == num_voters, \n",
    "                  voting_scenarios) if voting_scenarios is not None else list()\n",
    "\n",
    "    if len(_vs) == 1:\n",
    "        vs = _vs[0] \n",
    "        profiles = vs[\"pointed_profiles\"] if is_pointed else vs[\"profiles\"]\n",
    "        cand_names = vs[\"candidates\"]\n",
    "        voter_names = vs[\"voter_names\"]\n",
    "    \n",
    "    else: # need to generate them\n",
    "        \n",
    "        cmap = generate_candidate_maps(cand_names)\n",
    "\n",
    "        if is_pointed: # generate pointed profiles\n",
    "            \n",
    "            num_pointed_profiles = num_profiles * len(voter_names)\n",
    "            \n",
    "            profiles = [(create_prof(num_voters, cmap),\n",
    "                         random.choice(voter_names)) for _ in range(0, num_pointed_profiles)]\n",
    "\n",
    "        else: # generate profiles\n",
    "            \n",
    "            profiles = [create_prof(num_voters, cmap) for _ in range(0, num_profiles)]\n",
    "\n",
    "    return profiles, cand_names, voter_names\n",
    "\n",
    "\n",
    "prf_types = {\n",
    "    \"profile\": {\"is_pointed\": False, \n",
    "                \"find_manip_instances\": find_manipulation_instances_for_profile,\n",
    "                \"find_manip_instances_vm_sets\": find_manipulation_instances_for_vm_sets_for_profile,\n",
    "                \"generate_profiles\": generate_profiles_ic\n",
    "               },\n",
    "}\n",
    "\n",
    "\n",
    "for vsize in tqdm_notebook(voting_sizes, desc=\"Voting Sizes\"):\n",
    "    print vsize\n",
    "    t0 = time.time()\n",
    "    num_cands  = vsize[0]\n",
    "    num_voters = vsize[1]\n",
    "    \n",
    "    \n",
    "    have_all_profiles =  voting_scenarios is not None and len(filter(lambda vs: vs[\"num_candidates\"] == num_cands and vs[\"num_voters\"] == num_voters, voting_scenarios)) == 1\n",
    "    num_simulations = NUM_SIMULATIONS if not have_all_profiles else 1\n",
    "    \n",
    "    print \"\\nRunning {} simulations\".format(num_simulations)\n",
    "\n",
    "    for sim in tqdm_notebook(range(0, num_simulations),leave=False, desc=\"Sims\"): \n",
    "        \n",
    "        print \"sim {}\".format(sim)        \n",
    "        print \"\\nGenerate {} ...\\n\".format(prf_type)\n",
    "        generate_profs = prf_types[prf_type][\"generate_profiles\"]\n",
    "        find_manip_instances = prf_types[prf_type][\"find_manip_instances\"]\n",
    "        find_manip_instances_for_vm_sets = prf_types[prf_type][\"find_manip_instances_vm_sets\"]\n",
    "\n",
    "        profs, cand_names, voter_names = generate_profs(num_cands, \n",
    "                                                        num_voters,\n",
    "                                                        NUM_PROFILES,\n",
    "                                                            voting_scenarios,\n",
    "                                                        is_pointed = prf_types[prf_type][\"is_pointed\"])\n",
    "    \n",
    "        #tie_breakers = create_all_tie_breakers(cand_names)\n",
    "        all_rankings = generate_linear_orderings(cand_names)\n",
    "        num_profs = len(profs)\n",
    "                    \n",
    "        print \"number for profiles is {}\".format(num_profs)\n",
    "        prof_to_manip_instance = partial(find_manipulation_instances_for_vm_sets_for_profile2,\n",
    "                                         voting_methods_sets,\n",
    "                                         cand_names,\n",
    "                                         voter_names,\n",
    "                                         all_rankings)\n",
    "            \n",
    "            \n",
    "        chunksize = int(0.05 * num_profs) if int(0.05 * num_profs) < 10 else 10\n",
    "        print \"chunksize is {}\".format(chunksize)\n",
    "        p = Pool(None)\n",
    "        print \"Using {} CPUs\".format(cpu_count())            \n",
    "          \n",
    "        instances = list()\n",
    "        for _ in tqdm_notebook(p.imap_unordered(prof_to_manip_instance, profs), total=num_profs, leave=False):\n",
    "            instances.append(_)\n",
    "\n",
    "        #pool.imap_unordered()\n",
    "        #instances = p.map(prof_to_manip_instance, profs)\n",
    "            \n",
    "        p.close()\n",
    "        p.join()\n",
    "        \n",
    "        print \"now calculating output for the vms_sets....\"\n",
    "        #print \"vsize is {}\".format(vsize)\n",
    "\n",
    "        for vms in voting_methods_sets:\n",
    "            output_many_vms[vsize][vms_to_str(vms)][\"Surely weak dom. manip.\"].append(float(sum([i[vms_to_str(vms)][\"Surely weak dom. manip.\"] for i in instances])) / float(num_profs))\n",
    "            output_many_vms[vsize][vms_to_str(vms)][\"Safely weak dom. manip.\"].append(float(sum([i[vms_to_str(vms)][\"Safely weak dom. manip.\"] for i in instances])) / float(num_profs))\n",
    "\n",
    "            print \"output_many_vms \"\n",
    "            #print output_many_vms\n",
    "            print \n",
    "            \n",
    "        #print output_many_vms\n",
    "        pickle.dump(output_many_vms, open(\"./output_many_vms_percentage_manip_{}_2.pkl\".format(prob_type + \"_\" + prf_type),\"w\"))\n",
    "        t1 = time.time()\n",
    "\n",
    "        print \"execution time: {}\".format(t1-t0)\n",
    "        \n",
    "print \"Done.\""
   ]
  },
  {
   "cell_type": "code",
   "execution_count": null,
   "metadata": {},
   "outputs": [],
   "source": []
  }
 ],
 "metadata": {
  "kernelspec": {
   "display_name": "Python 2",
   "language": "python",
   "name": "python2"
  },
  "language_info": {
   "codemirror_mode": {
    "name": "ipython",
    "version": 2
   },
   "file_extension": ".py",
   "mimetype": "text/x-python",
   "name": "python",
   "nbconvert_exporter": "python",
   "pygments_lexer": "ipython2",
   "version": "2.7.14"
  }
 },
 "nbformat": 4,
 "nbformat_minor": 2
}
